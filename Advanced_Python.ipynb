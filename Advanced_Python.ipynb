{
  "nbformat": 4,
  "nbformat_minor": 0,
  "metadata": {
    "colab": {
      "name": "Advanced_Python.ipynb",
      "provenance": [],
      "include_colab_link": true
    },
    "kernelspec": {
      "name": "python3",
      "display_name": "Python 3"
    }
  },
  "cells": [
    {
      "cell_type": "markdown",
      "metadata": {
        "id": "view-in-github",
        "colab_type": "text"
      },
      "source": [
        "<a href=\"https://colab.research.google.com/github/9kwon/AAI-site/blob/master/Advanced_Python.ipynb\" target=\"_parent\"><img src=\"https://colab.research.google.com/assets/colab-badge.svg\" alt=\"Open In Colab\"/></a>"
      ]
    },
    {
      "cell_type": "code",
      "metadata": {
        "id": "BybGPxE-mVaC",
        "colab_type": "code",
        "colab": {}
      },
      "source": [
        "a=1\n",
        "b=a+2\n"
      ],
      "execution_count": 0,
      "outputs": []
    },
    {
      "cell_type": "code",
      "metadata": {
        "id": "5bQP18zLoFV-",
        "colab_type": "code",
        "outputId": "43ffeeb3-465e-4e1a-a28d-2a6866d31143",
        "colab": {
          "base_uri": "https://localhost:8080/",
          "height": 69
        }
      },
      "source": [
        "%time x = [i % 3 for i in range(1000)]\n",
        "\n",
        "%timeit x = [i %3 for i in range(10000)]"
      ],
      "execution_count": 0,
      "outputs": [
        {
          "output_type": "stream",
          "text": [
            "CPU times: user 91 µs, sys: 22 µs, total: 113 µs\n",
            "Wall time: 117 µs\n",
            "1000 loops, best of 3: 469 µs per loop\n"
          ],
          "name": "stdout"
        }
      ]
    },
    {
      "cell_type": "code",
      "metadata": {
        "id": "cWaSxvtCpAeo",
        "colab_type": "code",
        "outputId": "812a8dd4-be7d-4964-e142-e378f7e5a710",
        "colab": {
          "base_uri": "https://localhost:8080/",
          "height": 34
        }
      },
      "source": [
        "%%writefile test.py\n",
        "\n",
        "message = \"Hello how are you?\"\n",
        "for word in message.split():\n",
        "  print(word)\n",
        "\n",
        "%run test.py"
      ],
      "execution_count": 0,
      "outputs": [
        {
          "output_type": "stream",
          "text": [
            "Overwriting test.py\n"
          ],
          "name": "stdout"
        }
      ]
    },
    {
      "cell_type": "code",
      "metadata": {
        "id": "wEJAKgNmp2zp",
        "colab_type": "code",
        "outputId": "91fb3675-a51c-4436-f4f8-f059fab8efbb",
        "colab": {
          "base_uri": "https://localhost:8080/",
          "height": 52
        }
      },
      "source": [
        "import pickle\n",
        "\n",
        "colors = [\"yellow\", \"white\", \"red\"]\n",
        "print(colors)\n",
        "\n",
        "with open(\"colors.pickle\", 'wb') as f:\n",
        "  pickle.dump(colors, f)  # colors.pickle이라는 변수를 만들어서 변수 colors를 저장\n",
        "\n",
        "with open(\"colors.pickle\", 'rb') as f:\n",
        "  new_colors = pickle.load(f)    # colors.pickle에 담긴 내용을 new_colors에 저장\n",
        "\n",
        "print(new_colors)"
      ],
      "execution_count": 0,
      "outputs": [
        {
          "output_type": "stream",
          "text": [
            "['yellow', 'white', 'red']\n",
            "['yellow', 'white', 'red']\n"
          ],
          "name": "stdout"
        }
      ]
    },
    {
      "cell_type": "code",
      "metadata": {
        "id": "y0buQv_Cq_45",
        "colab_type": "code",
        "outputId": "899ee929-b281-41df-c619-ed9f8b515ade",
        "colab": {
          "base_uri": "https://localhost:8080/",
          "height": 72
        }
      },
      "source": [
        "tf = []\n",
        "com = []\n",
        "\n",
        "sum = 0\n",
        "for num in range(1, 1000):\n",
        "  if num % 3 == 0 or num % 5 == 0:\n",
        "    tf.append(num)\n",
        "  \n",
        "for i in tf:\n",
        "  sum += i\n",
        "\n",
        "print(tf)\n",
        "print(sum)\n",
        "\n",
        "\n",
        "    \n"
      ],
      "execution_count": 0,
      "outputs": [
        {
          "output_type": "stream",
          "text": [
            "[3, 5, 6, 9, 10, 12, 15, 18, 20, 21, 24, 25, 27, 30, 33, 35, 36, 39, 40, 42, 45, 48, 50, 51, 54, 55, 57, 60, 63, 65, 66, 69, 70, 72, 75, 78, 80, 81, 84, 85, 87, 90, 93, 95, 96, 99, 100, 102, 105, 108, 110, 111, 114, 115, 117, 120, 123, 125, 126, 129, 130, 132, 135, 138, 140, 141, 144, 145, 147, 150, 153, 155, 156, 159, 160, 162, 165, 168, 170, 171, 174, 175, 177, 180, 183, 185, 186, 189, 190, 192, 195, 198, 200, 201, 204, 205, 207, 210, 213, 215, 216, 219, 220, 222, 225, 228, 230, 231, 234, 235, 237, 240, 243, 245, 246, 249, 250, 252, 255, 258, 260, 261, 264, 265, 267, 270, 273, 275, 276, 279, 280, 282, 285, 288, 290, 291, 294, 295, 297, 300, 303, 305, 306, 309, 310, 312, 315, 318, 320, 321, 324, 325, 327, 330, 333, 335, 336, 339, 340, 342, 345, 348, 350, 351, 354, 355, 357, 360, 363, 365, 366, 369, 370, 372, 375, 378, 380, 381, 384, 385, 387, 390, 393, 395, 396, 399, 400, 402, 405, 408, 410, 411, 414, 415, 417, 420, 423, 425, 426, 429, 430, 432, 435, 438, 440, 441, 444, 445, 447, 450, 453, 455, 456, 459, 460, 462, 465, 468, 470, 471, 474, 475, 477, 480, 483, 485, 486, 489, 490, 492, 495, 498, 500, 501, 504, 505, 507, 510, 513, 515, 516, 519, 520, 522, 525, 528, 530, 531, 534, 535, 537, 540, 543, 545, 546, 549, 550, 552, 555, 558, 560, 561, 564, 565, 567, 570, 573, 575, 576, 579, 580, 582, 585, 588, 590, 591, 594, 595, 597, 600, 603, 605, 606, 609, 610, 612, 615, 618, 620, 621, 624, 625, 627, 630, 633, 635, 636, 639, 640, 642, 645, 648, 650, 651, 654, 655, 657, 660, 663, 665, 666, 669, 670, 672, 675, 678, 680, 681, 684, 685, 687, 690, 693, 695, 696, 699, 700, 702, 705, 708, 710, 711, 714, 715, 717, 720, 723, 725, 726, 729, 730, 732, 735, 738, 740, 741, 744, 745, 747, 750, 753, 755, 756, 759, 760, 762, 765, 768, 770, 771, 774, 775, 777, 780, 783, 785, 786, 789, 790, 792, 795, 798, 800, 801, 804, 805, 807, 810, 813, 815, 816, 819, 820, 822, 825, 828, 830, 831, 834, 835, 837, 840, 843, 845, 846, 849, 850, 852, 855, 858, 860, 861, 864, 865, 867, 870, 873, 875, 876, 879, 880, 882, 885, 888, 890, 891, 894, 895, 897, 900, 903, 905, 906, 909, 910, 912, 915, 918, 920, 921, 924, 925, 927, 930, 933, 935, 936, 939, 940, 942, 945, 948, 950, 951, 954, 955, 957, 960, 963, 965, 966, 969, 970, 972, 975, 978, 980, 981, 984, 985, 987, 990, 993, 995, 996, 999]\n",
            "233168\n"
          ],
          "name": "stdout"
        }
      ]
    },
    {
      "cell_type": "code",
      "metadata": {
        "id": "fAimnNsn3R-6",
        "colab_type": "code",
        "colab": {}
      },
      "source": [
        "import math\n",
        "\n",
        "def howmanyWinsMath(M, N):\n",
        "  z = int(100*M/N)\n",
        "  n = math.ceil(((z+1)*N-100*M)/(99-z))\n",
        "  return n\n",
        "\n",
        "def howmanyWinsLoop(M, N):\n",
        "  z = int((M/N) * 100)\n",
        "  n = 0\n",
        "  new_z = int((M+n)/(N+n) * 100)\n",
        "  while z == new_z:\n",
        "    n += 1\n",
        "    new_z = int((M+n)/(N+n) * 100)\n",
        "  return n  \n",
        "  "
      ],
      "execution_count": 0,
      "outputs": []
    },
    {
      "cell_type": "code",
      "metadata": {
        "id": "EXIkpI3s51bN",
        "colab_type": "code",
        "outputId": "9fe9b35b-17be-4b51-e998-43638b31499c",
        "colab": {
          "base_uri": "https://localhost:8080/",
          "height": 34
        }
      },
      "source": [
        "howmanyWinsLoop(547, 1000)\n"
      ],
      "execution_count": 0,
      "outputs": [
        {
          "output_type": "execute_result",
          "data": {
            "text/plain": [
              "7"
            ]
          },
          "metadata": {
            "tags": []
          },
          "execution_count": 3
        }
      ]
    },
    {
      "cell_type": "code",
      "metadata": {
        "id": "8DujYSIc5-wf",
        "colab_type": "code",
        "outputId": "f0001698-ebff-4641-99c8-ef3e74882faa",
        "colab": {
          "base_uri": "https://localhost:8080/",
          "height": 34
        }
      },
      "source": [
        "howmanyWinsMath(547, 1000)"
      ],
      "execution_count": 0,
      "outputs": [
        {
          "output_type": "execute_result",
          "data": {
            "text/plain": [
              "7"
            ]
          },
          "metadata": {
            "tags": []
          },
          "execution_count": 8
        }
      ]
    },
    {
      "cell_type": "code",
      "metadata": {
        "id": "BZW4gekL6vtW",
        "colab_type": "code",
        "outputId": "6c64406a-763b-477d-de42-75005c03b653",
        "colab": {
          "base_uri": "https://localhost:8080/",
          "height": 104
        }
      },
      "source": [
        "colors = ['red', 'blue', 'green', 'black', 'white']\n",
        "print(colors)\n",
        "\n",
        "colors.append('pink')\n",
        "print(colors)\n",
        "\n",
        "colors.extend(['yellow', 'plum'])\n",
        "print(colors)\n",
        "\n",
        "colors.sort()   # In-place 정렬\n",
        "print(colors)\n",
        "print(sorted(colors))  \n",
        "print(sorted(colors, reverse=True))\n",
        "\n",
        "# In-place 정렬\n",
        "# 제자리 정렬을 사용하면 정렬할 대상이 담겨 있는 \"변수 자체를 정렬된 형태\"로 바꿔 버립니다. \n",
        "# 기존의 정렬되기 전의 모습은 잃게 됩니다.\n",
        "# 정렬된 결과를 assign할 l-value는 필요 없습니다."
      ],
      "execution_count": 0,
      "outputs": [
        {
          "output_type": "stream",
          "text": [
            "['red', 'blue', 'green', 'black', 'white']\n",
            "['red', 'blue', 'green', 'black', 'white', 'pink']\n",
            "['red', 'blue', 'green', 'black', 'white', 'pink', 'yellow', 'plum']\n",
            "['red', 'blue', 'green', 'black', 'white', 'pink', 'yellow', 'plum']\n",
            "['yellow', 'white', 'red', 'plum', 'pink', 'green', 'blue', 'black']\n"
          ],
          "name": "stdout"
        }
      ]
    },
    {
      "cell_type": "code",
      "metadata": {
        "id": "MRYsp3uN__OI",
        "colab_type": "code",
        "colab": {}
      },
      "source": [
        "for i in range(0, len(colors)):\n",
        "  print(colors[i])\n",
        "\n",
        "for color in colors:\n",
        "  print(color)\n",
        "\n",
        "for i, color in enumerate(colors):\n",
        "  print(\"{}: {}\".format(i, color))\n"
      ],
      "execution_count": 0,
      "outputs": []
    },
    {
      "cell_type": "code",
      "metadata": {
        "id": "yylC1qr4Ax1K",
        "colab_type": "code",
        "outputId": "3ca4fbb4-7e26-4a54-d3dc-05877fdbccf2",
        "colab": {
          "base_uri": "https://localhost:8080/",
          "height": 34
        }
      },
      "source": [
        "res = []\n",
        "for i, color in enumerate(colors):\n",
        "  if color[0] == 'p':\n",
        "    res.append(i)\n",
        "\n",
        "print(res)"
      ],
      "execution_count": 0,
      "outputs": [
        {
          "output_type": "stream",
          "text": [
            "[5, 7]\n"
          ],
          "name": "stdout"
        }
      ]
    },
    {
      "cell_type": "code",
      "metadata": {
        "id": "DMXKEfOZCUfH",
        "colab_type": "code",
        "outputId": "122e8454-8ab2-4ace-9411-026c3490233c",
        "colab": {
          "base_uri": "https://localhost:8080/",
          "height": 157
        }
      },
      "source": [
        "colors = sorted(colors, reverse=True)\n",
        "colors.remove('green')\n",
        "print(colors)\n",
        "counts = [54, 31, 100, 87, 32, 98, 5]\n",
        "\n",
        "# index 공유\n",
        "for i in range(0, len(colors)):\n",
        "  print(\"{}를 좋아하는 {}\".format(colors[i], counts[i]))\n",
        "\n",
        "\n"
      ],
      "execution_count": 0,
      "outputs": [
        {
          "output_type": "stream",
          "text": [
            "['yellow', 'white', 'red', 'plum', 'pink', 'blue', 'black']\n",
            "yellow를 좋아하는 54\n",
            "white를 좋아하는 31\n",
            "red를 좋아하는 100\n",
            "plum를 좋아하는 87\n",
            "pink를 좋아하는 32\n",
            "blue를 좋아하는 98\n",
            "black를 좋아하는 5\n"
          ],
          "name": "stdout"
        }
      ]
    },
    {
      "cell_type": "code",
      "metadata": {
        "id": "O5_YPc1eEBHC",
        "colab_type": "code",
        "outputId": "637651f8-60c0-4cc7-8a45-491ce259c0ba",
        "colab": {
          "base_uri": "https://localhost:8080/",
          "height": 139
        }
      },
      "source": [
        "for color, count in zip(colors, counts):   # zip 사용법: enumerate의 결합 \n",
        "  print(\"{}를 좋아하는 {}\".format(color, count))"
      ],
      "execution_count": 0,
      "outputs": [
        {
          "output_type": "stream",
          "text": [
            "yellow를 좋아하는 54\n",
            "white를 좋아하는 31\n",
            "red를 좋아하는 100\n",
            "plum를 좋아하는 87\n",
            "pink를 좋아하는 32\n",
            "green를 좋아하는 98\n",
            "blue를 좋아하는 5\n"
          ],
          "name": "stdout"
        }
      ]
    },
    {
      "cell_type": "code",
      "metadata": {
        "id": "LbDbct5-Eusk",
        "colab_type": "code",
        "outputId": "9944e6d4-0475-4a73-b1c7-f50ae7358a84",
        "colab": {
          "base_uri": "https://localhost:8080/",
          "height": 34
        }
      },
      "source": [
        "aList = [1, \"2\", 3, \"4\", \"5\"]\n",
        "bList = []\n",
        "def toNumeric(i):\n",
        "  if type(i) == int:\n",
        "    return i\n",
        "  elif type(i) == str:\n",
        "    return int(i)\n",
        "\n",
        "bList = list(map(toNumeric, aList))    # Map 사용법 map(함수, 자원)\n",
        "print(bList)"
      ],
      "execution_count": 0,
      "outputs": [
        {
          "output_type": "stream",
          "text": [
            "[1, 2, 3, 4, 5]\n"
          ],
          "name": "stdout"
        }
      ]
    },
    {
      "cell_type": "code",
      "metadata": {
        "id": "BEbk8U4THOU3",
        "colab_type": "code",
        "outputId": "7d20a270-5da4-49de-b62f-939de658df31",
        "colab": {
          "base_uri": "https://localhost:8080/",
          "height": 52
        }
      },
      "source": [
        "import random\n",
        "\n",
        "rList = random.sample(range(-100, 101), 10)\n",
        "print(rList)\n",
        "\n",
        "res = []   # 0보다 큰 숫자만 저장\n",
        "for i in rList:\n",
        "  if i > 0:\n",
        "    res.append(i)\n",
        "print(res)"
      ],
      "execution_count": 0,
      "outputs": [
        {
          "output_type": "stream",
          "text": [
            "[-17, -11, -86, -15, 37, -21, -55, 6, 2, 22]\n",
            "[37, 6, 2, 22]\n"
          ],
          "name": "stdout"
        }
      ]
    },
    {
      "cell_type": "code",
      "metadata": {
        "id": "Um3UsvewH_gq",
        "colab_type": "code",
        "outputId": "304305bf-8bcf-45ae-f4e5-a05d5429c0fd",
        "colab": {
          "base_uri": "https://localhost:8080/",
          "height": 52
        }
      },
      "source": [
        "import random\n",
        "\n",
        "rList = random.sample(range(-100, 101), 10)\n",
        "print(rList)\n",
        "\n",
        "res = []   # 0보다 큰 숫자만 저장\n",
        "list(filter(lambda i: i > 0, rList))    # filter 사용  # 람다 예시\n",
        "\n",
        "def isPositive(x): \n",
        "  return x > 0 \n",
        "list(filter(isPositive, rList))           # filter 사용  # def 예시 \n"
      ],
      "execution_count": 0,
      "outputs": [
        {
          "output_type": "stream",
          "text": [
            "[-7, -79, 4, 91, -45, 15, 76, 71, 78, -69]\n"
          ],
          "name": "stdout"
        },
        {
          "output_type": "execute_result",
          "data": {
            "text/plain": [
              "[4, 91, 15, 76, 71, 78]"
            ]
          },
          "metadata": {
            "tags": []
          },
          "execution_count": 63
        }
      ]
    },
    {
      "cell_type": "code",
      "metadata": {
        "id": "XRWT01TSJ6-S",
        "colab_type": "code",
        "colab": {}
      },
      "source": [
        ""
      ],
      "execution_count": 0,
      "outputs": []
    },
    {
      "cell_type": "code",
      "metadata": {
        "id": "nGGYLkHrJ6oO",
        "colab_type": "code",
        "outputId": "6b48ae66-ab5a-4aaa-b7c2-648737951d8e",
        "colab": {
          "base_uri": "https://localhost:8080/",
          "height": 87
        }
      },
      "source": [
        "import numpy as np\n",
        "\n",
        "my_array = np.arange(1000)\n",
        "my_list = list(range(1000))\n",
        "\n",
        "print (type(my_array), type(my_list))\n",
        "\n",
        "%timeit [i**2 for i in my_list]\n",
        "\n",
        "%timeit my_array**2"
      ],
      "execution_count": 0,
      "outputs": [
        {
          "output_type": "stream",
          "text": [
            "<class 'numpy.ndarray'> <class 'list'>\n",
            "1000 loops, best of 3: 264 µs per loop\n",
            "The slowest run took 86.07 times longer than the fastest. This could mean that an intermediate result is being cached.\n",
            "1000000 loops, best of 3: 1.41 µs per loop\n"
          ],
          "name": "stdout"
        }
      ]
    },
    {
      "cell_type": "code",
      "metadata": {
        "id": "8EqoReOaKXFy",
        "colab_type": "code",
        "outputId": "cdf0eab8-df37-45e8-ce55-2273cf814c18",
        "colab": {
          "base_uri": "https://localhost:8080/",
          "height": 34
        }
      },
      "source": [
        "list = [1, 2, 4, 2, 6, 4, 77]\n",
        "add = np.sum(list)\n",
        "print(add)"
      ],
      "execution_count": 0,
      "outputs": [
        {
          "output_type": "stream",
          "text": [
            "96\n"
          ],
          "name": "stdout"
        }
      ]
    }
  ]
}